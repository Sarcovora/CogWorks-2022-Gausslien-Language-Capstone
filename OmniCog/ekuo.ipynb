{
 "cells": [
  {
   "cell_type": "markdown",
   "id": "16d373ec",
   "metadata": {},
   "source": [
    "# Tasks\n",
    "Organizing the COCO data:\n",
    "\n",
    "- Create a class that organizes all of the COCO data. It might store the following\n",
    "    - All the image IDs\n",
    "    - All the caption IDs\n",
    "    - Various mappings between image/caption IDs, and associating caption-IDs with captions\n",
    "        - `image-ID -> [cap-ID-1, cap-ID-2, ...]`\n",
    "        - `caption-ID -> image-ID`\n",
    "        - `caption-ID -> caption (e.g. 24 -> \"two dogs on the grass\")`"
   ]
  },
  {
   "cell_type": "markdown",
   "id": "a1c0c032",
   "metadata": {},
   "source": [
    "# Loading Data"
   ]
  },
  {
   "cell_type": "code",
   "execution_count": 2,
   "id": "224d5028",
   "metadata": {},
   "outputs": [
    {
     "name": "stderr",
     "output_type": "stream",
     "text": [
      "Downloading file 'captions_train2014.json' from 'https://github.com/rsokl/cog_data/releases/download/language-files/captions_train2014.json' to '/home/ekuo/.cache/cog_data'.\n"
     ]
    }
   ],
   "source": [
    "from cogworks_data.language import get_data_path\n",
    "\n",
    "from pathlib import Path\n",
    "import json\n",
    "\n",
    "# load COCO metadata\n",
    "filename = get_data_path(\"captions_train2014.json\")\n",
    "with Path(filename).open() as f:\n",
    "    coco_data = json.load(f)\n",
    "\n",
    "# >>> len(coco_data[\"images\"])  # number of images\n",
    "# 82783\n",
    "\n",
    "# >>> coco_data[\"images\"][0]\n",
    "# {'license': 5,\n",
    "#  'file_name': 'COCO_train2014_000000057870.jpg',\n",
    "#  'coco_url': 'http://images.cocodataset.org/train2014/COCO_train2014_000000057870.jpg',\n",
    "#  'height': 480,\n",
    "#  'width': 640,\n",
    "#  'date_captured': '2013-11-14 16:28:13',\n",
    "#  'flickr_url': 'http://farm4.staticflickr.com/3153/2970773875_164f0c0b83_z.jpg',\n",
    "#  'id': 57870}"
   ]
  },
  {
   "cell_type": "code",
   "execution_count": 3,
   "id": "ff0170cc",
   "metadata": {},
   "outputs": [
    {
     "name": "stderr",
     "output_type": "stream",
     "text": [
      "Downloading file 'glove.6B.200d.txt.w2v' from 'https://github.com/rsokl/cog_data/releases/download/language-files/glove.6B.200d.txt.w2v' to '/home/ekuo/.cache/cog_data'.\n"
     ]
    }
   ],
   "source": [
    "from gensim.models import KeyedVectors\n",
    "filename = \"glove.6B.200d.txt.w2v\"\n",
    "\n",
    "# this takes a while to load -- keep this in mind when designing your capstone project\n",
    "glove = KeyedVectors.load_word2vec_format(get_data_path(filename), binary=False)"
   ]
  },
  {
   "cell_type": "code",
   "execution_count": 4,
   "id": "d020a311",
   "metadata": {},
   "outputs": [
    {
     "name": "stderr",
     "output_type": "stream",
     "text": [
      "Downloading file 'resnet18_features.pkl' from 'https://github.com/rsokl/cog_data/releases/download/language-files/resnet18_features.pkl' to '/home/ekuo/.cache/cog_data'.\n"
     ]
    }
   ],
   "source": [
    "import pickle\n",
    "with Path(get_data_path('resnet18_features.pkl')).open('rb') as f:\n",
    "    resnet18_features = pickle.load(f)"
   ]
  },
  {
   "cell_type": "markdown",
   "id": "6ea12b36",
   "metadata": {},
   "source": [
    "# COCO Data Class"
   ]
  },
  {
   "cell_type": "code",
   "execution_count": 5,
   "id": "554f7599",
   "metadata": {},
   "outputs": [
    {
     "name": "stdout",
     "output_type": "stream",
     "text": [
      "<class 'list'>\n",
      "<class 'dict'>\n",
      "<class 'dict'>\n"
     ]
    }
   ],
   "source": [
    "c = coco_data[\"annotations\"]\n",
    "# print (c[:10])\n",
    "\n",
    "i = coco_data[\"images\"]\n",
    "print(type(i))\n",
    "\n",
    "print(type(coco_data))\n",
    "print(type(resnet18_features))"
   ]
  },
  {
   "cell_type": "code",
   "execution_count": 6,
   "id": "d35a8bac",
   "metadata": {},
   "outputs": [],
   "source": [
    "class CocoDataManager:\n",
    "    \"\"\"\n",
    "    Attributes\n",
    "    ----------\n",
    "    images : list\n",
    "        list of image dictionaries\n",
    "    captions : list\n",
    "        list of caption dictionaries\n",
    "    imageID_to_captionID : dictionary {int : int}\n",
    "        dictionary that stores image IDs as the key and caption IDs as the value\n",
    "    captionID_to_imgID : dictionary {int : int}\n",
    "        dictionary that stores captions IDs as the key and image IDs as the value\n",
    "    captionID_to_caption : dictionary {int : str}\n",
    "        dictionary that stores captions IDs as the key and a caption as the value\n",
    "    caption_to_captionID : dictionary {str : int}\n",
    "        dictionary that stores captions as the key and a caption IDs as the value\n",
    "    imageID_to_url : dictionary {int : str}\n",
    "        dictionary that stores image IDs as the key and a coco URL as the value\n",
    "    imageIDs : list\n",
    "        unsorted list of all image IDs\n",
    "    captionID_to_captionEmbedding : dictionary {int : np.array(200,)}\n",
    "        dictionary that stores caption IDs as the key and a caption embedding as the value\n",
    "    \n",
    "    Methods\n",
    "    -------\n",
    "    getCaptionIDs(self, img_id)\n",
    "        Gives a list of caption IDs given an image ID\n",
    "    getUrl(self, img_id)\n",
    "        Gives a coco url given an image ID\n",
    "    \"\"\"\n",
    "    \n",
    "    def __init__ (self, coco_data):\n",
    "        from OmniCog import query_embed\n",
    "        \"\"\"\n",
    "        Initialize a CocoDataManager class instance\n",
    "\n",
    "        Parameters\n",
    "        ----------\n",
    "        coco_data : dictionary\n",
    "            The loaded json file as a dictionary\n",
    "        \"\"\"\n",
    "        \n",
    "        self.unprocessed_images = coco_data[\"images\"]\n",
    "        self.captions = coco_data[\"annotations\"]\n",
    "        \n",
    "        self.images = []\n",
    "        \n",
    "        # removing captions without ResNet descriptor\n",
    "        for i in range(len(self.unprocessed_images)):\n",
    "            if (self.unprocessed_images[i][\"id\"] in resnet18_features):\n",
    "                self.images.append(self.unprocessed_images[i])\n",
    "        \n",
    "        \n",
    "        self.imageID_to_captionID = {}\n",
    "        self.captionID_to_imgID = {}\n",
    "        \n",
    "        self.captionID_to_caption = {}\n",
    "        self.caption_to_captionID = {}\n",
    "        \n",
    "        self.imageID_to_url = {}\n",
    "        \n",
    "        self.imageIDs = [i[\"id\"] for i in self.images]\n",
    "        \n",
    "        self.captionID_to_captionEmbedding = {}\n",
    "        \n",
    "        for c in self.captions:\n",
    "            cap_id = c[\"id\"]\n",
    "            img_id = c[\"image_id\"]\n",
    "            cap = c[\"caption\"]\n",
    "            \n",
    "            # adding data to the imageID to captionID dictionary\n",
    "            if (img_id in self.imageID_to_captionID):\n",
    "                self.imageID_to_captionID[img_id].append(cap_id)\n",
    "            else:\n",
    "                self.imageID_to_captionID[img_id] = [cap_id]\n",
    "            \n",
    "            # adding data to the captionID to imageID dictionary\n",
    "            self.captionID_to_imgID[cap_id] = img_id\n",
    "            \n",
    "            # adding data to the captionID to caption dictionary\n",
    "            self.captionID_to_caption[cap_id] = cap\n",
    "            \n",
    "            # adding data to the captionID to caption embedding dictionary\n",
    "            self.captionID_to_captionEmbedding[cap_id] = query_embed(cap)\n",
    "            \n",
    "        # adding data to the caption to captionID dictionary\n",
    "        self.caption_to_captionID = {value:key for key, value in self.captionID_to_caption.items()}\n",
    "        \n",
    "        for img in self.images:\n",
    "            img_id = img[\"id\"]\n",
    "            img_url = img[\"coco_url\"]\n",
    "            img_height = img[\"height\"]\n",
    "            img_width = img[\"width\"]\n",
    "        \n",
    "            # adding data to the imageID to url dictionary\n",
    "            self.imageID_to_url[img_id] = img_url\n",
    "                \n",
    "    def getCaptionIDs (self, img_id):\n",
    "        \"\"\"\n",
    "        Gives a list of caption IDs given an image ID\n",
    "\n",
    "        Parameters\n",
    "        ----------\n",
    "        img_id : int\n",
    "            Id of the image to be accessed\n",
    "\n",
    "        Returns\n",
    "        -------\n",
    "        list\n",
    "            List of length 4 that contains the caption ids\n",
    "        \"\"\"\n",
    "        return self.imageID_to_captionID[img_id]\n",
    "    \n",
    "    def getUrl (self, img_id):\n",
    "        \"\"\"\n",
    "        Gives a coco url given an image ID\n",
    "\n",
    "        Parameters\n",
    "        ----------\n",
    "        img_id : int\n",
    "            Id of the image to be accessed\n",
    "\n",
    "        Returns\n",
    "        -------\n",
    "        String\n",
    "            The coco URL used to access/download an image\n",
    "        \"\"\"\n",
    "        return self.imageID_to_url[img_id]\n"
   ]
  },
  {
   "cell_type": "code",
   "execution_count": 8,
   "id": "966d193e",
   "metadata": {},
   "outputs": [
    {
     "ename": "NameError",
     "evalue": "name 'np' is not defined",
     "output_type": "error",
     "traceback": [
      "\u001b[0;31m---------------------------------------------------------------------------\u001b[0m",
      "\u001b[0;31mNameError\u001b[0m                                 Traceback (most recent call last)",
      "Input \u001b[0;32mIn [8]\u001b[0m, in \u001b[0;36m<cell line: 1>\u001b[0;34m()\u001b[0m\n\u001b[0;32m----> 1\u001b[0m manager \u001b[38;5;241m=\u001b[39m \u001b[43mCocoDataManager\u001b[49m\u001b[43m(\u001b[49m\u001b[43mcoco_data\u001b[49m\u001b[43m)\u001b[49m\n",
      "Input \u001b[0;32mIn [6]\u001b[0m, in \u001b[0;36mCocoDataManager.__init__\u001b[0;34m(self, coco_data)\u001b[0m\n\u001b[1;32m     81\u001b[0m     \u001b[38;5;28mself\u001b[39m\u001b[38;5;241m.\u001b[39mcaptionID_to_caption[cap_id] \u001b[38;5;241m=\u001b[39m cap\n\u001b[1;32m     83\u001b[0m     \u001b[38;5;66;03m# adding data to the captionID to caption embedding dictionary\u001b[39;00m\n\u001b[0;32m---> 84\u001b[0m     \u001b[38;5;28mself\u001b[39m\u001b[38;5;241m.\u001b[39mcaptionID_to_captionEmbedding[cap_id] \u001b[38;5;241m=\u001b[39m \u001b[43mquery_embed\u001b[49m\u001b[43m(\u001b[49m\u001b[43mcap\u001b[49m\u001b[43m)\u001b[49m\n\u001b[1;32m     86\u001b[0m \u001b[38;5;66;03m# adding data to the caption to captionID dictionary\u001b[39;00m\n\u001b[1;32m     87\u001b[0m \u001b[38;5;28mself\u001b[39m\u001b[38;5;241m.\u001b[39mcaption_to_captionID \u001b[38;5;241m=\u001b[39m {value:key \u001b[38;5;28;01mfor\u001b[39;00m key, value \u001b[38;5;129;01min\u001b[39;00m \u001b[38;5;28mself\u001b[39m\u001b[38;5;241m.\u001b[39mcaptionID_to_caption\u001b[38;5;241m.\u001b[39mitems()}\n",
      "File \u001b[0;32m~/Github/CogWorks-2022-Gausslien-Language-Capstone/OmniCog/embed_query.py:18\u001b[0m, in \u001b[0;36mquery_embed\u001b[0;34m(query)\u001b[0m\n\u001b[1;32m      7\u001b[0m \u001b[38;5;28;01mdef\u001b[39;00m \u001b[38;5;21mquery_embed\u001b[39m(query):\n\u001b[1;32m      8\u001b[0m     \u001b[38;5;124;03m\"\"\"\u001b[39;00m\n\u001b[1;32m      9\u001b[0m \u001b[38;5;124;03m    Parameter:\u001b[39;00m\n\u001b[1;32m     10\u001b[0m \u001b[38;5;124;03m        query: string\u001b[39;00m\n\u001b[0;32m   (...)\u001b[0m\n\u001b[1;32m     16\u001b[0m \u001b[38;5;124;03m    \u001b[39;00m\n\u001b[1;32m     17\u001b[0m \u001b[38;5;124;03m    \"\"\"\u001b[39;00m\n\u001b[0;32m---> 18\u001b[0m     embed \u001b[38;5;241m=\u001b[39m \u001b[43mnp\u001b[49m\u001b[38;5;241m.\u001b[39mzeros(\u001b[38;5;241m200\u001b[39m,)\n\u001b[1;32m     19\u001b[0m     tokens \u001b[38;5;241m=\u001b[39m tokenize_caption(query)\n\u001b[1;32m     20\u001b[0m     \u001b[38;5;28;01mtry\u001b[39;00m:\n",
      "\u001b[0;31mNameError\u001b[0m: name 'np' is not defined"
     ]
    }
   ],
   "source": [
    "manager = CocoDataManager(coco_data)\n"
   ]
  },
  {
   "cell_type": "code",
   "execution_count": null,
   "id": "fcf42ecb",
   "metadata": {},
   "outputs": [],
   "source": [
    "len(resnet18_features) < len(manager.images)"
   ]
  },
  {
   "cell_type": "code",
   "execution_count": null,
   "id": "3597f80d",
   "metadata": {},
   "outputs": [],
   "source": [
    "len(resnet18_features)"
   ]
  },
  {
   "cell_type": "code",
   "execution_count": null,
   "id": "7ab52f53",
   "metadata": {},
   "outputs": [],
   "source": [
    "len(manager.images)"
   ]
  },
  {
   "cell_type": "code",
   "execution_count": null,
   "id": "5789510f",
   "metadata": {},
   "outputs": [],
   "source": []
  }
 ],
 "metadata": {
  "kernelspec": {
   "display_name": "Python 3 (ipykernel)",
   "language": "python",
   "name": "python3"
  },
  "language_info": {
   "codemirror_mode": {
    "name": "ipython",
    "version": 3
   },
   "file_extension": ".py",
   "mimetype": "text/x-python",
   "name": "python",
   "nbconvert_exporter": "python",
   "pygments_lexer": "ipython3",
   "version": "3.8.13"
  }
 },
 "nbformat": 4,
 "nbformat_minor": 5
}
