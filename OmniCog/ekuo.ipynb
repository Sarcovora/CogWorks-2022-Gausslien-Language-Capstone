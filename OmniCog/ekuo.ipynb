{
 "cells": [
  {
   "cell_type": "markdown",
   "id": "16d373ec",
   "metadata": {},
   "source": [
    "# Tasks\n",
    "Organizing the COCO data:\n",
    "\n",
    "- Create a class that organizes all of the COCO data. It might store the following\n",
    "    - All the image IDs\n",
    "    - All the caption IDs\n",
    "    - Various mappings between image/caption IDs, and associating caption-IDs with captions\n",
    "        - `image-ID -> [cap-ID-1, cap-ID-2, ...]`\n",
    "        - `caption-ID -> image-ID`\n",
    "        - `caption-ID -> caption (e.g. 24 -> \"two dogs on the grass\")`"
   ]
  },
  {
   "cell_type": "markdown",
   "id": "a1c0c032",
   "metadata": {},
   "source": [
    "# Loading Data"
   ]
  },
  {
   "cell_type": "code",
   "execution_count": 2,
   "id": "224d5028",
   "metadata": {},
   "outputs": [
    {
     "name": "stderr",
     "output_type": "stream",
     "text": [
      "Downloading file 'captions_train2014.json' from 'https://github.com/rsokl/cog_data/releases/download/language-files/captions_train2014.json' to 'C:\\Users\\evan_\\AppData\\Local\\cog_data\\cog_data\\Cache'.\n"
     ]
    }
   ],
   "source": [
    "from cogworks_data.language import get_data_path\n",
    "\n",
    "from pathlib import Path\n",
    "import json\n",
    "\n",
    "# load COCO metadata\n",
    "filename = get_data_path(\"captions_train2014.json\")\n",
    "with Path(filename).open() as f:\n",
    "    coco_data = json.load(f)\n",
    "\n",
    "# >>> len(coco_data[\"images\"])  # number of images\n",
    "# 82783\n",
    "\n",
    "# >>> coco_data[\"images\"][0]\n",
    "# {'license': 5,\n",
    "#  'file_name': 'COCO_train2014_000000057870.jpg',\n",
    "#  'coco_url': 'http://images.cocodataset.org/train2014/COCO_train2014_000000057870.jpg',\n",
    "#  'height': 480,\n",
    "#  'width': 640,\n",
    "#  'date_captured': '2013-11-14 16:28:13',\n",
    "#  'flickr_url': 'http://farm4.staticflickr.com/3153/2970773875_164f0c0b83_z.jpg',\n",
    "#  'id': 57870}"
   ]
  },
  {
   "cell_type": "code",
   "execution_count": 3,
   "id": "ff0170cc",
   "metadata": {},
   "outputs": [
    {
     "name": "stderr",
     "output_type": "stream",
     "text": [
      "Downloading file 'glove.6B.200d.txt.w2v' from 'https://github.com/rsokl/cog_data/releases/download/language-files/glove.6B.200d.txt.w2v' to 'C:\\Users\\evan_\\AppData\\Local\\cog_data\\cog_data\\Cache'.\n"
     ]
    }
   ],
   "source": [
    "from gensim.models import KeyedVectors\n",
    "filename = \"glove.6B.200d.txt.w2v\"\n",
    "\n",
    "# this takes a while to load -- keep this in mind when designing your capstone project\n",
    "glove = KeyedVectors.load_word2vec_format(get_data_path(filename), binary=False)"
   ]
  },
  {
   "cell_type": "code",
   "execution_count": 4,
   "id": "d020a311",
   "metadata": {},
   "outputs": [
    {
     "name": "stderr",
     "output_type": "stream",
     "text": [
      "Downloading file 'resnet18_features.pkl' from 'https://github.com/rsokl/cog_data/releases/download/language-files/resnet18_features.pkl' to 'C:\\Users\\evan_\\AppData\\Local\\cog_data\\cog_data\\Cache'.\n"
     ]
    }
   ],
   "source": [
    "import pickle\n",
    "with Path(get_data_path('resnet18_features.pkl')).open('rb') as f:\n",
    "    resnet18_features = pickle.load(f)"
   ]
  },
  {
   "cell_type": "markdown",
   "id": "6ea12b36",
   "metadata": {},
   "source": [
    "# COCO Data Class"
   ]
  },
  {
   "cell_type": "code",
   "execution_count": 13,
   "id": "554f7599",
   "metadata": {},
   "outputs": [
    {
     "name": "stdout",
     "output_type": "stream",
     "text": [
      "<class 'list'>\n",
      "<class 'dict'>\n"
     ]
    }
   ],
   "source": [
    "c = coco_data[\"annotations\"]\n",
    "# print (c[:10])\n",
    "\n",
    "i = coco_data[\"images\"]\n",
    "print(type(i))\n",
    "\n",
    "print(type(coco_data))"
   ]
  },
  {
   "cell_type": "code",
   "execution_count": null,
   "id": "d35a8bac",
   "metadata": {},
   "outputs": [],
   "source": [
    "class CocoDataManager:\n",
    "    \"\"\"\n",
    "    Attributes\n",
    "    ----------\n",
    "    images : list\n",
    "        list of image dictionaries\n",
    "    captions : list\n",
    "        list of caption dictionaries\n",
    "    imageID_to_captionID : dictionary {int : int}\n",
    "        dictionary that stores image IDs as the key and caption IDs as the value\n",
    "    captionID_to_imgID : dictionary {int : int}\n",
    "        dictionary that stores captions IDs as the key and image IDs as the value\n",
    "    captionID_to_caption : dictionary {int : str}\n",
    "        dictionary that stores captions IDs as the key and a caption as the value\n",
    "    caption_to_captionID : dictionary {str : int}\n",
    "        dictionary that stores captions as the key and a caption IDs as the value\n",
    "    imageID_to_url : dictionary {int : str}\n",
    "        dictionary that stores image IDs as the key and a coco URL as the value\n",
    "    imageIDs : list\n",
    "        unsorted list of all image IDs\n",
    "    \n",
    "    Methods\n",
    "    -------\n",
    "    getCaptionIDs(self, img_id)\n",
    "        Gives a list of caption IDs given an image ID\n",
    "    getUrl(self, img_id)\n",
    "        Gives a coco url given an image ID\n",
    "    \"\"\"\n",
    "    \n",
    "    def __init__ (self, coco_data):\n",
    "        \"\"\"\n",
    "        Initialize a CocoDataManager class instance\n",
    "\n",
    "        Parameters\n",
    "        ----------\n",
    "        coco_data : dictionary\n",
    "            The loaded json file as a dictionary\n",
    "        \"\"\"\n",
    "        \n",
    "        self.images = coco_data[\"images\"]\n",
    "        self.captions = coco_data[\"annotations\"]\n",
    "        \n",
    "        self.imageID_to_captionID = {}\n",
    "        self.captionID_to_imgID = {}\n",
    "        \n",
    "        self.captionID_to_caption = {}\n",
    "        self.caption_to_captionID = {}\n",
    "        \n",
    "        self.imageID_to_url = {}\n",
    "        \n",
    "        self.imageIDs = [i[\"id\"] for i in self.images]\n",
    "        \n",
    "        for c in self.captions:\n",
    "            cap_id = c[\"id\"]\n",
    "            img_id = c[\"image_id\"]\n",
    "            cap = c[\"caption\"]\n",
    "            \n",
    "            # adding data to the imageID to captionID dictionary\n",
    "            if (img_ID in self.imageID_to_captionID):\n",
    "                self.imageID_to_captionID[img_id].append(cap_id)\n",
    "            else:\n",
    "                self.imageID_to_captionID[img_id] = [cap_id]\n",
    "            \n",
    "            # adding data to the captionID to imageID dictionary\n",
    "            self.captionID_to_imgID[cap_id] = img_id\n",
    "            \n",
    "            # adding data to the captionID to caption dictionary\n",
    "            self.captionID_to_caption[cap_id] = cap\n",
    "            \n",
    "        # adding data to the caption to captionID dictionary\n",
    "        self.caption_to_captionID = {value:key for key, value in captionID_to_caption.items()}\n",
    "        \n",
    "        for img in self.images:\n",
    "            img_id = img[\"id\"]\n",
    "            img_url = img[\"coco_url\"]\n",
    "            img_height = img[\"height\"]\n",
    "            img_width = img[\"width\"]\n",
    "        \n",
    "            # adding data to the imageID to url dictionary\n",
    "            self.imageID_to_url[img_id] = img_url\n",
    "                \n",
    "    def getCaptionIDs (self, img_id):\n",
    "        \"\"\"\n",
    "        Gives a list of caption IDs given an image ID\n",
    "\n",
    "        Parameters\n",
    "        ----------\n",
    "        img_id : int\n",
    "            Id of the image to be accessed\n",
    "\n",
    "        Returns\n",
    "        -------\n",
    "        list\n",
    "            List of length 4 that contains the caption ids\n",
    "        \"\"\"\n",
    "        return self.imageID_to_captionID[img_id]\n",
    "    \n",
    "    def getUrl (self, img_id):\n",
    "        \"\"\"\n",
    "        Gives a coco url given an image ID\n",
    "\n",
    "        Parameters\n",
    "        ----------\n",
    "        img_id : int\n",
    "            Id of the image to be accessed\n",
    "\n",
    "        Returns\n",
    "        -------\n",
    "        String\n",
    "            The coco URL used to access/download an image\n",
    "        \"\"\"\n",
    "        return self.imageID_to_url[img_id]"
   ]
  }
 ],
 "metadata": {
  "kernelspec": {
   "display_name": "Python 3 (ipykernel)",
   "language": "python",
   "name": "python3"
  },
  "language_info": {
   "codemirror_mode": {
    "name": "ipython",
    "version": 3
   },
   "file_extension": ".py",
   "mimetype": "text/x-python",
   "name": "python",
   "nbconvert_exporter": "python",
   "pygments_lexer": "ipython3",
   "version": "3.8.13"
  }
 },
 "nbformat": 4,
 "nbformat_minor": 5
}
